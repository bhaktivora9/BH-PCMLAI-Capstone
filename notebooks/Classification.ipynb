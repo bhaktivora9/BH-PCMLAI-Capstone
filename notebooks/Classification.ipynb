{
 "cells": [
  {
   "cell_type": "code",
   "execution_count": 84,
   "id": "f6ebb42b",
   "metadata": {},
   "outputs": [],
   "source": [
    "from sklearn.neighbors import KNeighborsClassifier\n",
    "import pandas as pd\n",
    "import numpy as np\n",
    "import matplotlib.pyplot as plt\n",
    "import seaborn as sns\n",
    "from sklearn.multioutput import MultiOutputClassifier\n",
    "from sklearn.pipeline import Pipeline\n",
    "from sklearn.tree import DecisionTreeClassifier, export_text, plot_tree\n",
    "from sklearn.model_selection import train_test_split as split\n",
    "from sklearn.metrics import accuracy_score\n",
    "from sklearn.metrics import confusion_matrix\n",
    "from sklearn.model_selection import cross_val_score\n",
    "from sklearn.preprocessing import StandardScaler\n",
    "from sklearn.multioutput import RegressorChain\n",
    "from sklearn.multiclass import OneVsRestClassifier\n",
    "from sklearn.naive_bayes import GaussianNB\n",
    "from sklearn.naive_bayes import CategoricalNB\n",
    "import sklearn.preprocessing as pre\n",
    "\n",
    "\n",
    "import plotly.graph_objects as go\n",
    "import numpy as np\n",
    "from sklearn.datasets import make_moons\n",
    "from sklearn.model_selection import train_test_split\n",
    "from sklearn.neighbors import KNeighborsClassifier\n",
    "from sklearn.ensemble import BaggingClassifier\n"
   ]
  },
  {
   "cell_type": "code",
   "execution_count": 161,
   "id": "806ac2bc",
   "metadata": {},
   "outputs": [
    {
     "data": {
      "text/html": [
       "<div>\n",
       "<style scoped>\n",
       "    .dataframe tbody tr th:only-of-type {\n",
       "        vertical-align: middle;\n",
       "    }\n",
       "\n",
       "    .dataframe tbody tr th {\n",
       "        vertical-align: top;\n",
       "    }\n",
       "\n",
       "    .dataframe thead th {\n",
       "        text-align: right;\n",
       "    }\n",
       "</style>\n",
       "<table border=\"1\" class=\"dataframe\">\n",
       "  <thead>\n",
       "    <tr style=\"text-align: right;\">\n",
       "      <th></th>\n",
       "      <th>loudness</th>\n",
       "      <th>liveness</th>\n",
       "      <th>danceability</th>\n",
       "      <th>mode</th>\n",
       "      <th>popularity</th>\n",
       "      <th>key</th>\n",
       "      <th>energy</th>\n",
       "      <th>time_signature</th>\n",
       "      <th>valence</th>\n",
       "      <th>instrumentalness</th>\n",
       "      <th>speechiness</th>\n",
       "      <th>acousticness</th>\n",
       "      <th>tempo</th>\n",
       "      <th>track_name</th>\n",
       "      <th>track_id</th>\n",
       "      <th>category_name</th>\n",
       "    </tr>\n",
       "  </thead>\n",
       "  <tbody>\n",
       "    <tr>\n",
       "      <th>39066</th>\n",
       "      <td>-4.098</td>\n",
       "      <td>0.857</td>\n",
       "      <td>0.705</td>\n",
       "      <td>1</td>\n",
       "      <td>64</td>\n",
       "      <td>1</td>\n",
       "      <td>0.56</td>\n",
       "      <td>4</td>\n",
       "      <td>0.502</td>\n",
       "      <td>0.0</td>\n",
       "      <td>0.036</td>\n",
       "      <td>0.699</td>\n",
       "      <td>105.027</td>\n",
       "      <td>Dois Enganados</td>\n",
       "      <td>7McCAKExE8KsI2q4Y8wx4U</td>\n",
       "      <td>Romance</td>\n",
       "    </tr>\n",
       "  </tbody>\n",
       "</table>\n",
       "</div>"
      ],
      "text/plain": [
       "       loudness  liveness  danceability  mode  popularity  key  energy  \\\n",
       "39066    -4.098     0.857         0.705     1          64    1    0.56   \n",
       "\n",
       "       time_signature  valence  instrumentalness  speechiness  acousticness  \\\n",
       "39066               4    0.502               0.0        0.036         0.699   \n",
       "\n",
       "         tempo      track_name                track_id category_name  \n",
       "39066  105.027  Dois Enganados  7McCAKExE8KsI2q4Y8wx4U       Romance  "
      ]
     },
     "execution_count": 161,
     "metadata": {},
     "output_type": "execute_result"
    }
   ],
   "source": [
    "df = pd.read_csv('../data/clean_merged_data.csv')\n",
    "df.set_index('index',inplace=True,drop=True)\n",
    "df.sample()\n",
    "df_dummy_col = pd.read_csv(\"../data/tracks_with_dummy_columns.csv\")\n",
    "df_dummy_col.sample()\n",
    "multidf = pd.read_csv('../data/multi_output_format_tracks_categories.csv')\n",
    "#multidf.set_index('index',inplace=True,drop=True)\n",
    "multidf.sample()\n"
   ]
  },
  {
   "cell_type": "code",
   "execution_count": 86,
   "id": "407ae1ec",
   "metadata": {},
   "outputs": [],
   "source": [
    "#required features\n",
    "features1 = ['loudness','liveness','danceability','mode','popularity','key','energy','time_signature','valence','instrumentalness','speechiness','acousticness','tempo','track_name','track_id','category_name']\n",
    "sound_features = ['acousticness', 'danceability', 'energy', 'instrumentalness', 'liveness', 'valence','speechiness']\n",
    "features2 = ['loudness', 'liveness', 'danceability', 'mode', 'popularity', 'key', 'energy', 'time_signature', 'valence', 'instrumentalness', 'speechiness', 'acousticness', 'tempo', 'track_name', 'track_id','category_name']\n",
    "audio_features = ['loudness','liveness','danceability','mode','popularity','key','energy','time_signature','valence','instrumentalness','speechiness','acousticness','tempo']\n",
    "categories_list =['Pop', 'Party', 'Dance/Electronic', 'Rock', 'R&B','At Home' ,'Romance', 'Chill', 'Jazz', 'Workout', 'Hip-Hop', 'Gaming', 'Summer', 'EQUAL', 'Indie', 'Mood','Travel', 'Indian Classical', 'Devotional', 'Wellness','RADAR', 'Classical','Instrumental',  'Sleep', 'Focus', 'Kids & Family','Cooking & Dining', 'Folk & Acoustic', 'Metal']"
   ]
  },
  {
   "cell_type": "code",
   "execution_count": 87,
   "id": "fc2dd1ec",
   "metadata": {},
   "outputs": [],
   "source": [
    "X = df_dummy_col[audio_features]\n",
    "y = df_dummy_col[categories_list]\n",
    "X_df_new_train, X_df_new_test, y_df_new_train, y_df_new_test = split(X, y, test_size=0.3, random_state=101)"
   ]
  },
  {
   "cell_type": "code",
   "execution_count": 88,
   "id": "c632a39f",
   "metadata": {},
   "outputs": [],
   "source": [
    "X = df[audio_features]\n",
    "y = df['category_name']\n",
    "X_df_train, X_df_test, y_df_train, y_df_test = split(X, y, test_size=0.3, random_state=101)"
   ]
  },
  {
   "cell_type": "code",
   "execution_count": 89,
   "id": "eecc3332",
   "metadata": {},
   "outputs": [],
   "source": [
    "#knn = KNeighborsClassifier()\n",
    "knn = OneVsRestClassifier(KNeighborsClassifier()) \n",
    "knn.fit(X_df_new_train, y_df_new_train)\n",
    "y_pred = knn.predict(X_df_new_test)"
   ]
  },
  {
   "cell_type": "code",
   "execution_count": 67,
   "id": "f3fbe32e",
   "metadata": {},
   "outputs": [
    {
     "data": {
      "text/plain": [
       "0.14328166412336357"
      ]
     },
     "execution_count": 67,
     "metadata": {},
     "output_type": "execute_result"
    }
   ],
   "source": [
    "accuracy_score(y_pred,y_df_new_test)"
   ]
  },
  {
   "cell_type": "code",
   "execution_count": 90,
   "id": "051d8778",
   "metadata": {},
   "outputs": [
    {
     "data": {
      "text/plain": [
       "KNeighborsClassifier()"
      ]
     },
     "execution_count": 90,
     "metadata": {},
     "output_type": "execute_result"
    }
   ],
   "source": [
    "knn = KNeighborsClassifier()\n",
    "knn.fit(X_df_new_train,y_df_new_train)"
   ]
  },
  {
   "cell_type": "code",
   "execution_count": 91,
   "id": "de9dff71",
   "metadata": {},
   "outputs": [],
   "source": [
    "y_knn_predict = knn.predict(X_df_new_test)"
   ]
  },
  {
   "cell_type": "code",
   "execution_count": 92,
   "id": "9f12a2dd",
   "metadata": {},
   "outputs": [
    {
     "data": {
      "text/plain": [
       "0.14328166412336357"
      ]
     },
     "execution_count": 92,
     "metadata": {},
     "output_type": "execute_result"
    }
   ],
   "source": [
    "accuracy_score(y_knn_predict,y_test)"
   ]
  },
  {
   "cell_type": "code",
   "execution_count": 94,
   "id": "344ee467",
   "metadata": {},
   "outputs": [],
   "source": [
    "pipe_lr = Pipeline([('scaler', StandardScaler()),  ('knn_multi',MultiOutputClassifier(KNeighborsClassifier()))])"
   ]
  },
  {
   "cell_type": "code",
   "execution_count": 95,
   "id": "57b3d3d6",
   "metadata": {},
   "outputs": [
    {
     "data": {
      "text/plain": [
       "Pipeline(steps=[('scaler', StandardScaler()),\n",
       "                ('knn_multi',\n",
       "                 MultiOutputClassifier(estimator=KNeighborsClassifier()))])"
      ]
     },
     "execution_count": 95,
     "metadata": {},
     "output_type": "execute_result"
    }
   ],
   "source": [
    "pipe_lr.fit(X_train,y_train)"
   ]
  },
  {
   "cell_type": "code",
   "execution_count": 97,
   "id": "6ed2688d",
   "metadata": {},
   "outputs": [
    {
     "data": {
      "text/plain": [
       "0.25371456107943136"
      ]
     },
     "execution_count": 97,
     "metadata": {},
     "output_type": "execute_result"
    }
   ],
   "source": [
    "pipe_lr.score(X_test,y_test)\n"
   ]
  },
  {
   "cell_type": "code",
   "execution_count": 98,
   "id": "bd42ec16",
   "metadata": {},
   "outputs": [
    {
     "data": {
      "text/plain": [
       "OneVsRestClassifier(estimator=KNeighborsClassifier())"
      ]
     },
     "execution_count": 98,
     "metadata": {},
     "output_type": "execute_result"
    }
   ],
   "source": [
    "clf = OneVsRestClassifier(knn)\n",
    "clf.fit(X_df_new_train, y_df_new_train)"
   ]
  },
  {
   "cell_type": "code",
   "execution_count": 99,
   "id": "b864225d",
   "metadata": {},
   "outputs": [],
   "source": [
    "y_ovs_knn_predicted = clf.predict(X_df_new_test)"
   ]
  },
  {
   "cell_type": "code",
   "execution_count": 100,
   "id": "613d45e1",
   "metadata": {},
   "outputs": [
    {
     "data": {
      "text/plain": [
       "0.14328166412336357"
      ]
     },
     "execution_count": 100,
     "metadata": {},
     "output_type": "execute_result"
    }
   ],
   "source": [
    "accuracy_score(y_ovs_knn_predicted,y_df_new_test)"
   ]
  },
  {
   "cell_type": "code",
   "execution_count": 101,
   "id": "24052ba5",
   "metadata": {},
   "outputs": [
    {
     "data": {
      "text/plain": [
       "MultiOutputClassifier(estimator=GaussianNB())"
      ]
     },
     "execution_count": 101,
     "metadata": {},
     "output_type": "execute_result"
    }
   ],
   "source": [
    "gnb = MultiOutputClassifier(GaussianNB())\n",
    "gnb.fit(X_df_new_train, y_df_new_train)"
   ]
  },
  {
   "cell_type": "code",
   "execution_count": 102,
   "id": "91ffc48c",
   "metadata": {},
   "outputs": [
    {
     "data": {
      "text/plain": [
       "0.0363023050357401"
      ]
     },
     "execution_count": 102,
     "metadata": {},
     "output_type": "execute_result"
    }
   ],
   "source": [
    "accuracy_score(gnb.predict(X_df_new_test),y_df_new_test)"
   ]
  },
  {
   "cell_type": "code",
   "execution_count": 103,
   "id": "a06c0a58",
   "metadata": {},
   "outputs": [
    {
     "data": {
      "text/plain": [
       "DecisionTreeClassifier(random_state=0)"
      ]
     },
     "execution_count": 103,
     "metadata": {},
     "output_type": "execute_result"
    }
   ],
   "source": [
    "from sklearn.tree import DecisionTreeClassifier\n",
    "\n",
    "clf = DecisionTreeClassifier(random_state=0)\n",
    "clf.fit(X_train,y_train)"
   ]
  },
  {
   "cell_type": "code",
   "execution_count": 108,
   "id": "2f438228",
   "metadata": {},
   "outputs": [],
   "source": [
    "y_rpred = clf.predict(X_df_new_test)"
   ]
  },
  {
   "cell_type": "code",
   "execution_count": 109,
   "id": "aa0e95e8",
   "metadata": {},
   "outputs": [
    {
     "data": {
      "text/plain": [
       "0.2684121757288571"
      ]
     },
     "execution_count": 109,
     "metadata": {},
     "output_type": "execute_result"
    }
   ],
   "source": [
    "accuracy_score(y_rpred,y_df_new_test)"
   ]
  },
  {
   "cell_type": "code",
   "execution_count": 111,
   "id": "0123e179",
   "metadata": {},
   "outputs": [
    {
     "data": {
      "text/plain": [
       "MultiOutputClassifier(estimator=DecisionTreeClassifier(random_state=0))"
      ]
     },
     "execution_count": 111,
     "metadata": {},
     "output_type": "execute_result"
    }
   ],
   "source": [
    "multi = MultiOutputClassifier(clf)\n",
    "multi.fit(X_train,y_train)"
   ]
  },
  {
   "cell_type": "code",
   "execution_count": 112,
   "id": "acab0a15",
   "metadata": {},
   "outputs": [],
   "source": [
    "y_pred = multi.predict(X_test)"
   ]
  },
  {
   "cell_type": "code",
   "execution_count": 113,
   "id": "5bbe9805",
   "metadata": {},
   "outputs": [
    {
     "data": {
      "text/plain": [
       "0.16175407597783312"
      ]
     },
     "execution_count": 113,
     "metadata": {},
     "output_type": "execute_result"
    }
   ],
   "source": [
    "accuracy_score(y_pred,y_test)"
   ]
  },
  {
   "cell_type": "code",
   "execution_count": 115,
   "id": "6443ce2d",
   "metadata": {},
   "outputs": [
    {
     "data": {
      "text/plain": [
       "OneVsRestClassifier(estimator=DecisionTreeClassifier(random_state=0))"
      ]
     },
     "execution_count": 115,
     "metadata": {},
     "output_type": "execute_result"
    }
   ],
   "source": [
    "clf1 = OneVsRestClassifier(clf)\n",
    "clf1.fit(X_df_train, y_df_train)"
   ]
  },
  {
   "cell_type": "code",
   "execution_count": 116,
   "id": "8fba5ee8",
   "metadata": {},
   "outputs": [],
   "source": [
    "y_pred_d = clf1.predict(X_df_test)"
   ]
  },
  {
   "cell_type": "code",
   "execution_count": 118,
   "id": "3ae3f9d0",
   "metadata": {},
   "outputs": [
    {
     "data": {
      "text/plain": [
       "0.1429356240323628"
      ]
     },
     "execution_count": 118,
     "metadata": {},
     "output_type": "execute_result"
    }
   ],
   "source": [
    "accuracy_score(y_pred_d,y_df_test)"
   ]
  },
  {
   "cell_type": "code",
   "execution_count": 82,
   "id": "efa85fe6",
   "metadata": {},
   "outputs": [],
   "source": [
    "from skmultilearn.problem_transform import ClassifierChain\n",
    "from sklearn.naive_bayes import GaussianNB\n",
    "from skmultilearn.problem_transform import LabelPowerset\n"
   ]
  },
  {
   "cell_type": "code",
   "execution_count": 122,
   "id": "b0cd73ef",
   "metadata": {},
   "outputs": [],
   "source": [
    "# initialize classifier chains multi-label classifier\n",
    "# with a gaussian naive bayes base classifier\n",
    "classifier = ClassifierChain(GaussianNB())\n",
    "\n",
    "# train\n",
    "classifier.fit(X_df_new_train, y_df_new_train)\n",
    "\n",
    "# predict\n",
    "predictions = classifier.predict(X_df_new_test)\n",
    "\n",
    "#accuracy_score(y_test,predictions)"
   ]
  },
  {
   "cell_type": "code",
   "execution_count": 127,
   "id": "d4edbb74",
   "metadata": {},
   "outputs": [
    {
     "data": {
      "text/plain": [
       "GaussianNB()"
      ]
     },
     "execution_count": 127,
     "metadata": {},
     "output_type": "execute_result"
    }
   ],
   "source": [
    "gaussian = GaussianNB()\n",
    "# train\n",
    "gaussian.fit(X_df_train, y_df_train)"
   ]
  },
  {
   "cell_type": "code",
   "execution_count": 166,
   "id": "40ba9373",
   "metadata": {},
   "outputs": [
    {
     "data": {
      "text/plain": [
       "0.2789791739499575"
      ]
     },
     "execution_count": 166,
     "metadata": {},
     "output_type": "execute_result"
    }
   ],
   "source": [
    "predictions = gaussian.predict(X_df_test)\n",
    "accuracy_score(predictions,y_df_test)"
   ]
  },
  {
   "cell_type": "code",
   "execution_count": null,
   "id": "ff608bf6",
   "metadata": {},
   "outputs": [],
   "source": []
  },
  {
   "cell_type": "code",
   "execution_count": 175,
   "id": "e666e639",
   "metadata": {},
   "outputs": [],
   "source": []
  },
  {
   "cell_type": "code",
   "execution_count": null,
   "id": "d07ae378",
   "metadata": {},
   "outputs": [],
   "source": []
  },
  {
   "cell_type": "code",
   "execution_count": null,
   "id": "ba611737",
   "metadata": {},
   "outputs": [],
   "source": []
  }
 ],
 "metadata": {
  "kernelspec": {
   "display_name": "Python 3 (ipykernel)",
   "language": "python",
   "name": "python3"
  },
  "language_info": {
   "codemirror_mode": {
    "name": "ipython",
    "version": 3
   },
   "file_extension": ".py",
   "mimetype": "text/x-python",
   "name": "python",
   "nbconvert_exporter": "python",
   "pygments_lexer": "ipython3",
   "version": "3.9.12"
  }
 },
 "nbformat": 4,
 "nbformat_minor": 5
}
