{
 "cells": [
  {
   "cell_type": "code",
   "execution_count": 1,
   "id": "396104fb",
   "metadata": {},
   "outputs": [],
   "source": [
    "import pandas as pd\n",
    "import numpy as np\n",
    "import matplotlib.pyplot as plt\n",
    "import seaborn as sns\n",
    "from sklearn.multioutput import MultiOutputClassifier\n",
    "from sklearn.linear_model import LogisticRegression\n",
    "from sklearn.multioutput import MultiOutputRegressor\n",
    "from sklearn.linear_model import Ridge\n",
    "from sklearn.pipeline import Pipeline\n",
    "from sklearn.tree import DecisionTreeClassifier, export_text, plot_tree\n",
    "from sklearn.model_selection import train_test_split as split\n",
    "from sklearn.metrics import accuracy_score\n",
    "from sklearn.preprocessing import StandardScaler\n",
    "from sklearn.multioutput import RegressorChain\n",
    "from sklearn.multiclass import OneVsRestClassifier\n",
    "from sklearn import svm\n",
    "from sklearn.multiclass import OneVsOneClassifier\n"
   ]
  },
  {
   "cell_type": "code",
   "execution_count": 2,
   "id": "7a0f49cb",
   "metadata": {},
   "outputs": [
    {
     "data": {
      "text/html": [
       "<div>\n",
       "<style scoped>\n",
       "    .dataframe tbody tr th:only-of-type {\n",
       "        vertical-align: middle;\n",
       "    }\n",
       "\n",
       "    .dataframe tbody tr th {\n",
       "        vertical-align: top;\n",
       "    }\n",
       "\n",
       "    .dataframe thead th {\n",
       "        text-align: right;\n",
       "    }\n",
       "</style>\n",
       "<table border=\"1\" class=\"dataframe\">\n",
       "  <thead>\n",
       "    <tr style=\"text-align: right;\">\n",
       "      <th></th>\n",
       "      <th>loudness</th>\n",
       "      <th>liveness</th>\n",
       "      <th>danceability</th>\n",
       "      <th>mode</th>\n",
       "      <th>popularity</th>\n",
       "      <th>key</th>\n",
       "      <th>energy</th>\n",
       "      <th>time_signature</th>\n",
       "      <th>valence</th>\n",
       "      <th>instrumentalness</th>\n",
       "      <th>speechiness</th>\n",
       "      <th>acousticness</th>\n",
       "      <th>tempo</th>\n",
       "      <th>track_name</th>\n",
       "      <th>track_id</th>\n",
       "      <th>category_name</th>\n",
       "    </tr>\n",
       "    <tr>\n",
       "      <th>index</th>\n",
       "      <th></th>\n",
       "      <th></th>\n",
       "      <th></th>\n",
       "      <th></th>\n",
       "      <th></th>\n",
       "      <th></th>\n",
       "      <th></th>\n",
       "      <th></th>\n",
       "      <th></th>\n",
       "      <th></th>\n",
       "      <th></th>\n",
       "      <th></th>\n",
       "      <th></th>\n",
       "      <th></th>\n",
       "      <th></th>\n",
       "      <th></th>\n",
       "    </tr>\n",
       "  </thead>\n",
       "  <tbody>\n",
       "    <tr>\n",
       "      <th>186126</th>\n",
       "      <td>-30.732</td>\n",
       "      <td>0.103</td>\n",
       "      <td>0.412</td>\n",
       "      <td>1</td>\n",
       "      <td>58</td>\n",
       "      <td>5</td>\n",
       "      <td>0.0451</td>\n",
       "      <td>3</td>\n",
       "      <td>0.762</td>\n",
       "      <td>0.932</td>\n",
       "      <td>0.0419</td>\n",
       "      <td>0.992</td>\n",
       "      <td>170.149</td>\n",
       "      <td>Take care</td>\n",
       "      <td>244BGt6n916G7NdoOUKSsX</td>\n",
       "      <td>Focus</td>\n",
       "    </tr>\n",
       "  </tbody>\n",
       "</table>\n",
       "</div>"
      ],
      "text/plain": [
       "        loudness  liveness  danceability  mode  popularity  key  energy  \\\n",
       "index                                                                     \n",
       "186126   -30.732     0.103         0.412     1          58    5  0.0451   \n",
       "\n",
       "        time_signature  valence  instrumentalness  speechiness  acousticness  \\\n",
       "index                                                                          \n",
       "186126               3    0.762             0.932       0.0419         0.992   \n",
       "\n",
       "          tempo track_name                track_id category_name  \n",
       "index                                                             \n",
       "186126  170.149  Take care  244BGt6n916G7NdoOUKSsX         Focus  "
      ]
     },
     "execution_count": 2,
     "metadata": {},
     "output_type": "execute_result"
    }
   ],
   "source": [
    "df = pd.read_csv('../data/clean_merged_data.csv')\n",
    "df.set_index('index',inplace=True,drop=True)\n",
    "df.sample()"
   ]
  },
  {
   "cell_type": "code",
   "execution_count": 3,
   "id": "01d1d87a",
   "metadata": {},
   "outputs": [
    {
     "data": {
      "text/html": [
       "<div>\n",
       "<style scoped>\n",
       "    .dataframe tbody tr th:only-of-type {\n",
       "        vertical-align: middle;\n",
       "    }\n",
       "\n",
       "    .dataframe tbody tr th {\n",
       "        vertical-align: top;\n",
       "    }\n",
       "\n",
       "    .dataframe thead th {\n",
       "        text-align: right;\n",
       "    }\n",
       "</style>\n",
       "<table border=\"1\" class=\"dataframe\">\n",
       "  <thead>\n",
       "    <tr style=\"text-align: right;\">\n",
       "      <th></th>\n",
       "      <th>track_name</th>\n",
       "      <th>At Home</th>\n",
       "      <th>Chill</th>\n",
       "      <th>Classical</th>\n",
       "      <th>Cooking &amp; Dining</th>\n",
       "      <th>Dance/Electronic</th>\n",
       "      <th>Devotional</th>\n",
       "      <th>EQUAL</th>\n",
       "      <th>Focus</th>\n",
       "      <th>Folk &amp; Acoustic</th>\n",
       "      <th>...</th>\n",
       "      <th>popularity</th>\n",
       "      <th>key</th>\n",
       "      <th>energy</th>\n",
       "      <th>time_signature</th>\n",
       "      <th>valence</th>\n",
       "      <th>instrumentalness</th>\n",
       "      <th>speechiness</th>\n",
       "      <th>acousticness</th>\n",
       "      <th>tempo</th>\n",
       "      <th>track_id</th>\n",
       "    </tr>\n",
       "  </thead>\n",
       "  <tbody>\n",
       "    <tr>\n",
       "      <th>29168</th>\n",
       "      <td>Pink Noise 192Hz Wide Q</td>\n",
       "      <td>0</td>\n",
       "      <td>0</td>\n",
       "      <td>0</td>\n",
       "      <td>0</td>\n",
       "      <td>0</td>\n",
       "      <td>0</td>\n",
       "      <td>0</td>\n",
       "      <td>1</td>\n",
       "      <td>0</td>\n",
       "      <td>...</td>\n",
       "      <td>44</td>\n",
       "      <td>10</td>\n",
       "      <td>0.495</td>\n",
       "      <td>3</td>\n",
       "      <td>0.0074</td>\n",
       "      <td>0.253</td>\n",
       "      <td>0.0765</td>\n",
       "      <td>0.698</td>\n",
       "      <td>127.911</td>\n",
       "      <td>5Te6CwVUEMi5WjLiVFcSgy</td>\n",
       "    </tr>\n",
       "  </tbody>\n",
       "</table>\n",
       "<p>1 rows × 44 columns</p>\n",
       "</div>"
      ],
      "text/plain": [
       "                    track_name  At Home  Chill  Classical  Cooking & Dining  \\\n",
       "29168  Pink Noise 192Hz Wide Q        0      0          0                 0   \n",
       "\n",
       "       Dance/Electronic  Devotional  EQUAL  Focus  Folk & Acoustic  ...  \\\n",
       "29168                 0           0      0      1                0  ...   \n",
       "\n",
       "       popularity  key  energy  time_signature  valence  instrumentalness  \\\n",
       "29168          44   10   0.495               3   0.0074             0.253   \n",
       "\n",
       "       speechiness  acousticness    tempo                track_id  \n",
       "29168       0.0765         0.698  127.911  5Te6CwVUEMi5WjLiVFcSgy  \n",
       "\n",
       "[1 rows x 44 columns]"
      ]
     },
     "execution_count": 3,
     "metadata": {},
     "output_type": "execute_result"
    }
   ],
   "source": [
    "df_dummy_col = pd.read_csv(\"../data/tracks_with_dummy_columns.csv\")\n",
    "df_dummy_col.sample()"
   ]
  },
  {
   "cell_type": "code",
   "execution_count": 4,
   "id": "7a0cf264",
   "metadata": {},
   "outputs": [
    {
     "data": {
      "text/html": [
       "<div>\n",
       "<style scoped>\n",
       "    .dataframe tbody tr th:only-of-type {\n",
       "        vertical-align: middle;\n",
       "    }\n",
       "\n",
       "    .dataframe tbody tr th {\n",
       "        vertical-align: top;\n",
       "    }\n",
       "\n",
       "    .dataframe thead th {\n",
       "        text-align: right;\n",
       "    }\n",
       "</style>\n",
       "<table border=\"1\" class=\"dataframe\">\n",
       "  <thead>\n",
       "    <tr style=\"text-align: right;\">\n",
       "      <th></th>\n",
       "      <th>loudness</th>\n",
       "      <th>liveness</th>\n",
       "      <th>danceability</th>\n",
       "      <th>mode</th>\n",
       "      <th>popularity</th>\n",
       "      <th>key</th>\n",
       "      <th>energy</th>\n",
       "      <th>time_signature</th>\n",
       "      <th>valence</th>\n",
       "      <th>instrumentalness</th>\n",
       "      <th>speechiness</th>\n",
       "      <th>acousticness</th>\n",
       "      <th>tempo</th>\n",
       "      <th>track_name</th>\n",
       "      <th>track_id</th>\n",
       "      <th>category_name</th>\n",
       "    </tr>\n",
       "  </thead>\n",
       "  <tbody>\n",
       "    <tr>\n",
       "      <th>29320</th>\n",
       "      <td>-11.403</td>\n",
       "      <td>0.0954</td>\n",
       "      <td>0.758</td>\n",
       "      <td>1</td>\n",
       "      <td>71</td>\n",
       "      <td>0</td>\n",
       "      <td>0.612</td>\n",
       "      <td>4</td>\n",
       "      <td>0.822</td>\n",
       "      <td>0.00288</td>\n",
       "      <td>0.0598</td>\n",
       "      <td>0.281</td>\n",
       "      <td>106.945</td>\n",
       "      <td>You're The One That I Want - From “Grease”</td>\n",
       "      <td>0B9x2BRHqj3Qer7biM3pU3</td>\n",
       "      <td>Party</td>\n",
       "    </tr>\n",
       "  </tbody>\n",
       "</table>\n",
       "</div>"
      ],
      "text/plain": [
       "       loudness  liveness  danceability  mode  popularity  key  energy  \\\n",
       "29320   -11.403    0.0954         0.758     1          71    0   0.612   \n",
       "\n",
       "       time_signature  valence  instrumentalness  speechiness  acousticness  \\\n",
       "29320               4    0.822           0.00288       0.0598         0.281   \n",
       "\n",
       "         tempo                                  track_name  \\\n",
       "29320  106.945  You're The One That I Want - From “Grease”   \n",
       "\n",
       "                     track_id category_name  \n",
       "29320  0B9x2BRHqj3Qer7biM3pU3         Party  "
      ]
     },
     "execution_count": 4,
     "metadata": {},
     "output_type": "execute_result"
    }
   ],
   "source": [
    "multidf = pd.read_csv('../data/multi_output_format_tracks_categories.csv')\n",
    "multidf.sample()"
   ]
  },
  {
   "cell_type": "code",
   "execution_count": 5,
   "id": "eb297a84",
   "metadata": {},
   "outputs": [],
   "source": [
    "#required features\n",
    "features1 = ['loudness','liveness','danceability','mode','popularity','key','energy','time_signature','valence','instrumentalness','speechiness','acousticness','tempo','track_name','track_id','category_name']\n",
    "sound_features = ['acousticness', 'danceability', 'energy', 'instrumentalness', 'liveness', 'valence','speechiness']\n",
    "features2 = ['loudness', 'liveness', 'danceability', 'mode', 'popularity', 'key', 'energy', 'time_signature', 'valence', 'instrumentalness', 'speechiness', 'acousticness', 'tempo', 'track_name', 'track_id','category_name']\n",
    "audio_features = ['loudness','liveness','danceability','mode','popularity','key','energy','time_signature','valence','instrumentalness','speechiness','acousticness','tempo']\n",
    "categories_list =['Pop', 'Party', 'Dance/Electronic', 'Rock', 'R&B','At Home' ,'Romance', 'Chill', 'Jazz', 'Workout', 'Hip-Hop', 'Gaming', 'Summer', 'EQUAL', 'Indie', 'Mood','Travel', 'Indian Classical', 'Devotional', 'Wellness','RADAR', 'Classical','Instrumental',  'Sleep', 'Focus', 'Kids & Family','Cooking & Dining', 'Folk & Acoustic', 'Metal']"
   ]
  },
  {
   "cell_type": "code",
   "execution_count": 6,
   "id": "3b5abb82",
   "metadata": {},
   "outputs": [],
   "source": [
    "X = df_dummy_col[audio_features]\n",
    "y = df_dummy_col[categories_list]"
   ]
  },
  {
   "cell_type": "code",
   "execution_count": 7,
   "id": "513f9ef8",
   "metadata": {},
   "outputs": [],
   "source": [
    "X_train, X_test, y_train, y_test = split(X, y, test_size=0.3, random_state=100)"
   ]
  },
  {
   "cell_type": "code",
   "execution_count": 8,
   "id": "781d01a1",
   "metadata": {},
   "outputs": [
    {
     "data": {
      "text/plain": [
       "(41503, 13)"
      ]
     },
     "execution_count": 8,
     "metadata": {},
     "output_type": "execute_result"
    }
   ],
   "source": [
    "X.shape"
   ]
  },
  {
   "cell_type": "code",
   "execution_count": 9,
   "id": "62a75678",
   "metadata": {},
   "outputs": [
    {
     "data": {
      "text/plain": [
       "(41503, 29)"
      ]
     },
     "execution_count": 9,
     "metadata": {},
     "output_type": "execute_result"
    }
   ],
   "source": [
    "y.shape"
   ]
  },
  {
   "cell_type": "code",
   "execution_count": 12,
   "id": "5c9d88b0",
   "metadata": {},
   "outputs": [],
   "source": [
    "onevsrest = OneVsRestClassifier( svm.SVC()).fit(X_train, y_train)"
   ]
  },
  {
   "cell_type": "code",
   "execution_count": 13,
   "id": "340dbaae",
   "metadata": {},
   "outputs": [],
   "source": [
    "svc_pred = onevsrest.predict(X_test)"
   ]
  },
  {
   "cell_type": "code",
   "execution_count": 14,
   "id": "3ed5ad9a",
   "metadata": {},
   "outputs": [
    {
     "data": {
      "text/plain": [
       "5.919203276845233"
      ]
     },
     "execution_count": 14,
     "metadata": {},
     "output_type": "execute_result"
    }
   ],
   "source": [
    "accuracy_score(svc_pred,y_test) * 100"
   ]
  },
  {
   "cell_type": "code",
   "execution_count": null,
   "id": "d8104d25",
   "metadata": {},
   "outputs": [],
   "source": [
    "import numpy as np\n",
    "from sklearn.pipeline import make_pipeline\n",
    "from sklearn.preprocessing import StandardScaler\n",
    "from sklearn.svm import NuSVC\n",
    "classifier = make_pipeline(StandardScaler(), NuSVC(nu = 0.1))\n",
    "onevsrest = OneVsRestClassifier(classifier).fit(X_train, y_train)\n",
    "y_pred = onevsrest.predict(X_test)\n",
    "\n"
   ]
  }
 ],
 "metadata": {
  "kernelspec": {
   "display_name": "Python 3 (ipykernel)",
   "language": "python",
   "name": "python3"
  },
  "language_info": {
   "codemirror_mode": {
    "name": "ipython",
    "version": 3
   },
   "file_extension": ".py",
   "mimetype": "text/x-python",
   "name": "python",
   "nbconvert_exporter": "python",
   "pygments_lexer": "ipython3",
   "version": "3.9.12"
  }
 },
 "nbformat": 4,
 "nbformat_minor": 5
}
